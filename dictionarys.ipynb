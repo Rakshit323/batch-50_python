{
  "nbformat": 4,
  "nbformat_minor": 0,
  "metadata": {
    "colab": {
      "provenance": [],
      "authorship_tag": "ABX9TyN1zyQsg48E3JhNDpCeIHHo",
      "include_colab_link": true
    },
    "kernelspec": {
      "name": "python3",
      "display_name": "Python 3"
    },
    "language_info": {
      "name": "python"
    }
  },
  "cells": [
    {
      "cell_type": "markdown",
      "metadata": {
        "id": "view-in-github",
        "colab_type": "text"
      },
      "source": [
        "<a href=\"https://colab.research.google.com/github/Rakshit323/batch-50_python/blob/main/dictionarys.ipynb\" target=\"_parent\"><img src=\"https://colab.research.google.com/assets/colab-badge.svg\" alt=\"Open In Colab\"/></a>"
      ]
    },
    {
      "cell_type": "code",
      "execution_count": 3,
      "metadata": {
        "colab": {
          "base_uri": "https://localhost:8080/"
        },
        "id": "24uYTUWdwWep",
        "outputId": "b62f6d85-3439-4ac8-906c-e4a972d82062"
      },
      "outputs": [
        {
          "output_type": "stream",
          "name": "stdout",
          "text": [
            "{'Roll_No': '16/001', 'Name': 'Arav', 'Course': 'BTech'}\n",
            "Dict[ROLL_NO] =  16/001\n",
            "Dict[NAME] =  Arav\n",
            "Dict[COURSE] =  BTech\n"
          ]
        }
      ],
      "source": [
        "Dict={'Roll_No':'16/001','Name':'Arav','Course':'BTech'}\n",
        "print(Dict)\n",
        "print(\"Dict[ROLL_NO] = \",Dict['Roll_No'])\n",
        "print(\"Dict[NAME] = \",Dict['Name'])\n",
        "print(\"Dict[COURSE] = \",Dict['Course'])\n"
      ]
    },
    {
      "cell_type": "code",
      "source": [
        "Dict={'Roll_No':'16/001','Name':'Arav','Course':'BTech'}\n",
        "print(\"Dict[ROLL_NO] = \",Dict['Roll_No'])\n",
        "print(\"Dict[NAME] = \",Dict['Name'])\n",
        "print(\"Dict[COURSE] = \",Dict['Course'])\n",
        "Dict['Marks']=95\n",
        "print(\"Dict[MARKS] = \",Dict['Marks'])"
      ],
      "metadata": {
        "colab": {
          "base_uri": "https://localhost:8080/"
        },
        "id": "LsrauN7ux43i",
        "outputId": "928e4955-d57f-4538-8592-fe9ae39ba6e8"
      },
      "execution_count": 4,
      "outputs": [
        {
          "output_type": "stream",
          "name": "stdout",
          "text": [
            "Dict[ROLL_NO] =  16/001\n",
            "Dict[NAME] =  Arav\n",
            "Dict[COURSE] =  BTech\n",
            "Dict[MARKS] =  95\n"
          ]
        }
      ]
    },
    {
      "cell_type": "code",
      "source": [
        "Dict={'Roll_No':'16/001','Name':'Arav','Course':'BTech'}\n",
        "print(\"Dict[ROLL_NO] = \",Dict['Roll_No'])\n",
        "print(\"Dict[NAME] = \",Dict['Name'])\n",
        "print(\"Dict[COURSE] = \",Dict['Course'])\n",
        "Dict['Marks']=95\n",
        "print(\"Dict[MARKS] = \",Dict['Marks'])\n",
        "Dict['Course']='MTech'\n",
        "print(\"Dict[COURSE] = \",Dict['Course'])"
      ],
      "metadata": {
        "colab": {
          "base_uri": "https://localhost:8080/"
        },
        "id": "tAYFAiPEyPnW",
        "outputId": "79c52233-ec4e-415f-f36b-eacbd20b62c8"
      },
      "execution_count": 5,
      "outputs": [
        {
          "output_type": "stream",
          "name": "stdout",
          "text": [
            "Dict[ROLL_NO] =  16/001\n",
            "Dict[NAME] =  Arav\n",
            "Dict[COURSE] =  BTech\n",
            "Dict[MARKS] =  95\n",
            "Dict[COURSE] =  MTech\n"
          ]
        }
      ]
    },
    {
      "cell_type": "code",
      "source": [
        "Dict={'Roll_No':'16/001','Name':'Arav','Course':'BTech'}\n",
        "print(\"Dict[ROLL_NO] = \",Dict['Roll_No'])\n",
        "print(\"Dict[NAME] = \",Dict['Name'])\n",
        "print(\"Dict[COURSE] = \",Dict['Course'])\n",
        "Dict['Marks']=95\n",
        "print(\"Dict[MARKS] = \",Dict['Marks'])\n",
        "print(\"Name is : \",Dict.pop('Name'))\n",
        "print(\"Dictionary after popping Name is: \",Dict)\n",
        "print(\"Marks is:\",Dict.pop('Marks',-1))\n",
        "print(\"Dictionary after popping Marks is: \",Dict)"
      ],
      "metadata": {
        "colab": {
          "base_uri": "https://localhost:8080/"
        },
        "id": "LjFeH90UzlGz",
        "outputId": "1c3b6f8d-9477-4738-aa85-01673a45db43"
      },
      "execution_count": 10,
      "outputs": [
        {
          "output_type": "stream",
          "name": "stdout",
          "text": [
            "Dict[ROLL_NO] =  16/001\n",
            "Dict[NAME] =  Arav\n",
            "Dict[COURSE] =  BTech\n",
            "Dict[MARKS] =  95\n",
            "Name is :  Arav\n",
            "Dictionary after popping Name is:  {'Roll_No': '16/001', 'Course': 'BTech', 'Marks': 95}\n",
            "Marks is: 95\n",
            "Dictionary after popping Marks is:  {'Roll_No': '16/001', 'Course': 'BTech'}\n"
          ]
        }
      ]
    },
    {
      "cell_type": "code",
      "source": [
        "Dict={'Roll_No':'16/001','Name':'Arav','Course':'BTech'}\n",
        "print(sorted(Dict.keys()))"
      ],
      "metadata": {
        "colab": {
          "base_uri": "https://localhost:8080/"
        },
        "id": "ALrO5GkZ1Cfz",
        "outputId": "c9bf90a1-51ad-4047-de29-fb374fb7a0be"
      },
      "execution_count": 11,
      "outputs": [
        {
          "output_type": "stream",
          "name": "stdout",
          "text": [
            "['Course', 'Name', 'Roll_No']\n"
          ]
        }
      ]
    },
    {
      "cell_type": "code",
      "source": [
        "Dict={'Roll_No':'16/001','Name':'Arav','Course':'BTech'}\n",
        "print(\"KEYS : \",end='')\n",
        "for key in Dict:\n",
        "  print(key,end=' ')\n",
        "print(\"\\nVALUES : \",end=' ')\n",
        "for value in Dict.values():\n",
        "  print(value,end=' ')\n",
        "for key,value in Dict.items():\n",
        "  print(key,value,\"\\t\",end=' ')\n"
      ],
      "metadata": {
        "colab": {
          "base_uri": "https://localhost:8080/"
        },
        "id": "y2js8-LY1MsO",
        "outputId": "bda8de8b-7581-4bff-f429-1d67998eca87"
      },
      "execution_count": 14,
      "outputs": [
        {
          "output_type": "stream",
          "name": "stdout",
          "text": [
            "KEYS : Roll_No Name Course \n",
            "VALUES :  16/001 Arav BTech Roll_No 16/001 \t Name Arav \t Course BTech \t "
          ]
        }
      ]
    },
    {
      "cell_type": "code",
      "source": [
        "Dict={'Name':\"Rakshit\",\"SAP_ID\":590013065,'Age':18,'Address':\"Jamshedpur\"}\n",
        "print(Dict)\n",
        "Dict['Gender']='Male'\n",
        "print(Dict)\n",
        "Dict['Age']=19\n",
        "print(Dict)\n",
        "print(sorted(Dict.keys()))\n",
        "print(\"Name is : \",Dict.pop('Name'))\n",
        "for key in Dict:\n",
        "  print(key,end=' ')\n",
        "print(\"\\nVALUES : \",end=' ')\n",
        "for value in Dict.values():\n",
        "  print(value,end=' ')\n",
        "for key,value in Dict.items():\n",
        "  print(key,value,\"\\t\",end=' ')"
      ],
      "metadata": {
        "colab": {
          "base_uri": "https://localhost:8080/"
        },
        "id": "S4hCoFWK2QK2",
        "outputId": "3efe2f8d-d485-4918-e670-63c3a5048479"
      },
      "execution_count": 16,
      "outputs": [
        {
          "output_type": "stream",
          "name": "stdout",
          "text": [
            "{'Name': 'Rakshit', 'SAP_ID': 590013065, 'Age': 18, 'Address': 'Jamshedpur'}\n",
            "{'Name': 'Rakshit', 'SAP_ID': 590013065, 'Age': 18, 'Address': 'Jamshedpur', 'Gender': 'Male'}\n",
            "{'Name': 'Rakshit', 'SAP_ID': 590013065, 'Age': 19, 'Address': 'Jamshedpur', 'Gender': 'Male'}\n",
            "['Address', 'Age', 'Gender', 'Name', 'SAP_ID']\n",
            "Name is :  Rakshit\n",
            "SAP_ID Age Address Gender \n",
            "VALUES :  590013065 19 Jamshedpur Male SAP_ID 590013065 \t Age 19 \t Address Jamshedpur \t Gender Male \t "
          ]
        }
      ]
    },
    {
      "cell_type": "code",
      "source": [
        "Students={'Shiv':{'CS':90,'DS':89,'CSA':92},'Sadhvi':{'CS':91,'DS':87,'CSA':94},'Krish':{'CS':93,'DS':92,'CSA':88}}\n",
        "for key,val in Students.items():\n",
        "  print(key,val)"
      ],
      "metadata": {
        "colab": {
          "base_uri": "https://localhost:8080/"
        },
        "id": "qy7rUHWN47Js",
        "outputId": "536cf6e0-ea09-408d-fc59-4dbc73f4545d"
      },
      "execution_count": 17,
      "outputs": [
        {
          "output_type": "stream",
          "name": "stdout",
          "text": [
            "Shiv {'CS': 90, 'DS': 89, 'CSA': 92}\n",
            "Sadhvi {'CS': 91, 'DS': 87, 'CSA': 94}\n",
            "Krish {'CS': 93, 'DS': 92, 'CSA': 88}\n"
          ]
        }
      ]
    },
    {
      "cell_type": "code",
      "source": [
        "Dict={'Roll_No':'16/001','Name':'Arav','Course':'BTech'}\n",
        "print(len(Dict))"
      ],
      "metadata": {
        "colab": {
          "base_uri": "https://localhost:8080/"
        },
        "id": "KovmL1fG6TH4",
        "outputId": "f463c225-67ad-425d-e99b-2e5f427a59fb"
      },
      "execution_count": 18,
      "outputs": [
        {
          "output_type": "stream",
          "name": "stdout",
          "text": [
            "3\n"
          ]
        }
      ]
    },
    {
      "cell_type": "code",
      "source": [
        "Dict={'Roll_No':'16/001','Name':'Arav','Course':'BTech'}\n",
        "print(str(Dict))"
      ],
      "metadata": {
        "colab": {
          "base_uri": "https://localhost:8080/"
        },
        "id": "bFEpCyZ-6hdY",
        "outputId": "185c0243-0fb4-490e-8c48-1b03186ab37c"
      },
      "execution_count": 19,
      "outputs": [
        {
          "output_type": "stream",
          "name": "stdout",
          "text": [
            "{'Roll_No': '16/001', 'Name': 'Arav', 'Course': 'BTech'}\n"
          ]
        }
      ]
    },
    {
      "cell_type": "code",
      "source": [
        "Dict={'Roll_No':'16/001','Name':'Arav','Course':'BTech'}\n",
        "Dict.clear()\n",
        "print((Dict))"
      ],
      "metadata": {
        "colab": {
          "base_uri": "https://localhost:8080/"
        },
        "id": "UgnIk7OF6pSS",
        "outputId": "bda27743-b034-4aab-c2bb-8375674703ab"
      },
      "execution_count": 21,
      "outputs": [
        {
          "output_type": "stream",
          "name": "stdout",
          "text": [
            "{}\n"
          ]
        }
      ]
    },
    {
      "cell_type": "code",
      "source": [
        "Dict={'Roll_No':'16/001','Name':'Arav','Course':'BTech'}\n",
        "Dict2=Dict.copy()\n",
        "print((Dict2))\n",
        "Dict2['Name']='Saesha'\n",
        "print(\"Dict after modification : \",Dict2)"
      ],
      "metadata": {
        "colab": {
          "base_uri": "https://localhost:8080/"
        },
        "id": "bgWqdLc-6vku",
        "outputId": "b6685bf8-9ef0-4176-9948-f0404212488f"
      },
      "execution_count": 24,
      "outputs": [
        {
          "output_type": "stream",
          "name": "stdout",
          "text": [
            "{'Roll_No': '16/001', 'Name': 'Arav', 'Course': 'BTech'}\n",
            "Dict after modification :  {'Roll_No': '16/001', 'Name': 'Saesha', 'Course': 'BTech'}\n"
          ]
        }
      ]
    }
  ]
}