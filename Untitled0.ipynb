{
  "nbformat": 4,
  "nbformat_minor": 0,
  "metadata": {
    "colab": {
      "provenance": [],
      "authorship_tag": "ABX9TyOZhe7k7fr/SOXSC/UapaPL",
      "include_colab_link": true
    },
    "kernelspec": {
      "name": "python3",
      "display_name": "Python 3"
    },
    "language_info": {
      "name": "python"
    }
  },
  "cells": [
    {
      "cell_type": "markdown",
      "metadata": {
        "id": "view-in-github",
        "colab_type": "text"
      },
      "source": [
        "<a href=\"https://colab.research.google.com/github/Rakshit323/batch-50_python/blob/main/Untitled0.ipynb\" target=\"_parent\"><img src=\"https://colab.research.google.com/assets/colab-badge.svg\" alt=\"Open In Colab\"/></a>"
      ]
    },
    {
      "cell_type": "code",
      "execution_count": null,
      "metadata": {
        "colab": {
          "base_uri": "https://localhost:8080/"
        },
        "id": "gpzihBFpJwLu",
        "outputId": "42d9e6ad-f1b5-48d2-c1ae-639255c8c7c6"
      },
      "outputs": [
        {
          "output_type": "stream",
          "name": "stdout",
          "text": [
            "welcome to python\n"
          ]
        }
      ],
      "source": [
        "print(\"welcome to python\")"
      ]
    },
    {
      "cell_type": "code",
      "source": [
        "print(\"welcome to pyhton\")\n",
        "a=10.5"
      ],
      "metadata": {
        "id": "Kf-jA5zJKHa0"
      },
      "execution_count": null,
      "outputs": []
    },
    {
      "cell_type": "markdown",
      "source": [
        "keywords and identifiers***"
      ],
      "metadata": {
        "id": "lJgkBjATL3FY"
      }
    },
    {
      "cell_type": "code",
      "source": [
        "a=10+10#single line statement\n",
        "print(a)\n",
        "#multi line statement\n",
        "a=10+10+\\\n",
        "20+20+20+\\\n",
        "30+10+20\n",
        "print(a)"
      ],
      "metadata": {
        "colab": {
          "base_uri": "https://localhost:8080/"
        },
        "id": "xY9hznoPMOZw",
        "outputId": "6c87bd96-8548-4b2d-8e6f-1209bf988f5e"
      },
      "execution_count": null,
      "outputs": [
        {
          "output_type": "stream",
          "name": "stdout",
          "text": [
            "20\n",
            "140\n"
          ]
        }
      ]
    },
    {
      "cell_type": "code",
      "source": [
        "print(\"Users can now import Gemini API keys from AI Studio into their user secrets, all in Colab (tweet).\"\\\n",
        "\"Increased limit to 1000 characters for requests to Gemini in Chat and Generate windows.\")"
      ],
      "metadata": {
        "colab": {
          "base_uri": "https://localhost:8080/"
        },
        "id": "SbjdfxwWO08Q",
        "outputId": "2f85322d-f745-4f20-a8f4-898bd87f4825"
      },
      "execution_count": null,
      "outputs": [
        {
          "output_type": "stream",
          "name": "stdout",
          "text": [
            "Users can now import Gemini API keys from AI Studio into their user secrets, all in Colab (tweet).Increased limit to 1000 characters for requests to Gemini in Chat and Generate windows.\n"
          ]
        }
      ]
    },
    {
      "cell_type": "code",
      "source": [
        "\n",
        "l1=['a',\n",
        "    'e',\n",
        "    'i',\n",
        "    'o',\n",
        "    'u'\n",
        "   ]\n",
        "l1"
      ],
      "metadata": {
        "colab": {
          "base_uri": "https://localhost:8080/"
        },
        "id": "vMBR7Vu_PsTr",
        "outputId": "038ef730-f5e4-4dfe-aa09-114c6d60f7d1"
      },
      "execution_count": null,
      "outputs": [
        {
          "output_type": "execute_result",
          "data": {
            "text/plain": [
              "['a', 'e', 'i', 'o', 'u']"
            ]
          },
          "metadata": {},
          "execution_count": 14
        }
      ]
    },
    {
      "cell_type": "code",
      "source": [
        "mystring= \"'hi , my name is rakshit' \\n 'and i am working in UPES'\""
      ],
      "metadata": {
        "id": "WfZ2evsDQUZy"
      },
      "execution_count": null,
      "outputs": []
    },
    {
      "cell_type": "code",
      "source": [
        "num1=int(input(\"enter first number\"))\n",
        "num2=int(input(\"enter second number\"))\n",
        "sum=(num1*num2)\n",
        "sum"
      ],
      "metadata": {
        "colab": {
          "base_uri": "https://localhost:8080/"
        },
        "id": "mMwycqhoQ5dI",
        "outputId": "9ec7fadd-f5d4-4bb4-8968-df7579a42c73"
      },
      "execution_count": null,
      "outputs": [
        {
          "name": "stdout",
          "output_type": "stream",
          "text": [
            "enter first number10\n",
            "enter second number20\n"
          ]
        },
        {
          "output_type": "execute_result",
          "data": {
            "text/plain": [
              "200"
            ]
          },
          "metadata": {},
          "execution_count": 18
        }
      ]
    },
    {
      "cell_type": "code",
      "source": [
        "num1=float(input(\"enter first number\"))\n",
        "num2=int(input(\"enter second number\"))\n",
        "sum=(num1*num2)\n",
        "sum"
      ],
      "metadata": {
        "colab": {
          "base_uri": "https://localhost:8080/"
        },
        "id": "INYA_ST1S6SC",
        "outputId": "5b35c346-6cf2-41e0-e873-3ea4c3e17eb4"
      },
      "execution_count": null,
      "outputs": [
        {
          "name": "stdout",
          "output_type": "stream",
          "text": [
            "enter first number10.0\n",
            "enter second number20\n"
          ]
        },
        {
          "output_type": "execute_result",
          "data": {
            "text/plain": [
              "200.0"
            ]
          },
          "metadata": {},
          "execution_count": 19
        }
      ]
    },
    {
      "cell_type": "code",
      "source": [
        "a=17\n",
        "b=3\n",
        "print(a+b)\n",
        "print(a-b)\n",
        "print(a*b)\n",
        "print(a/b)\n",
        "print(a%b)\n",
        "print(a//b)\n",
        "print(a**b)\n",
        "print(a==b)\n",
        "print(a!=b)\n",
        "print(a>=b)\n",
        "print(a<=b)\n",
        "print(a>b)\n",
        "print(a<b)\n",
        "print(a&b)\n",
        "print(a|b)\n",
        "print(~a)\n",
        "print(~b)\n",
        "print(a^b)\n",
        "print(a>>1)\n",
        "print(a<<1)\n",
        "print(b>>1)\n",
        "print(a<<1)\n",
        "if ( (a>b)and(a==b) ) :\n",
        " print(\"success\")\n",
        "else :\n",
        " print(\"fail\")\n",
        "if ( (a>b)or(a==b) ) :\n",
        " print(\"success\")\n",
        "else :\n",
        " print(\"fail\")"
      ],
      "metadata": {
        "colab": {
          "base_uri": "https://localhost:8080/"
        },
        "id": "XumgXL82knA7",
        "outputId": "5c9cc844-4b85-40c8-a32b-d91401b8dbd0"
      },
      "execution_count": 19,
      "outputs": [
        {
          "output_type": "stream",
          "name": "stdout",
          "text": [
            "20\n",
            "14\n",
            "51\n",
            "5.666666666666667\n",
            "2\n",
            "5\n",
            "4913\n",
            "False\n",
            "True\n",
            "True\n",
            "False\n",
            "True\n",
            "False\n",
            "1\n",
            "19\n",
            "-18\n",
            "-4\n",
            "18\n",
            "8\n",
            "34\n",
            "1\n",
            "34\n",
            "fail\n",
            "success\n"
          ]
        }
      ]
    },
    {
      "cell_type": "code",
      "source": [
        "20==30"
      ],
      "metadata": {
        "colab": {
          "base_uri": "https://localhost:8080/"
        },
        "id": "OAbQxapsTd2B",
        "outputId": "d4ec723b-1803-4b1d-a1f3-c5aaafdbce6f"
      },
      "execution_count": null,
      "outputs": [
        {
          "output_type": "execute_result",
          "data": {
            "text/plain": [
              "False"
            ]
          },
          "metadata": {},
          "execution_count": 20
        }
      ]
    },
    {
      "cell_type": "code",
      "source": [
        "20!=30\n"
      ],
      "metadata": {
        "colab": {
          "base_uri": "https://localhost:8080/"
        },
        "id": "406-C6X8Tmhx",
        "outputId": "0b845952-2228-4b4d-be9d-bf28d861bb4a"
      },
      "execution_count": null,
      "outputs": [
        {
          "output_type": "execute_result",
          "data": {
            "text/plain": [
              "True"
            ]
          },
          "metadata": {},
          "execution_count": 21
        }
      ]
    },
    {
      "cell_type": "code",
      "source": [
        "#write a program to use input function ,take two variables,add subtract multiply or divide as required"
      ],
      "metadata": {
        "id": "j0Go7DmNuduh"
      },
      "execution_count": null,
      "outputs": []
    }
  ]
}