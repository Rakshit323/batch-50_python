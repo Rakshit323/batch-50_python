{
  "nbformat": 4,
  "nbformat_minor": 0,
  "metadata": {
    "colab": {
      "provenance": [],
      "authorship_tag": "ABX9TyO6Va+QOk7WRLM4B8iAADya",
      "include_colab_link": true
    },
    "kernelspec": {
      "name": "python3",
      "display_name": "Python 3"
    },
    "language_info": {
      "name": "python"
    }
  },
  "cells": [
    {
      "cell_type": "markdown",
      "metadata": {
        "id": "view-in-github",
        "colab_type": "text"
      },
      "source": [
        "<a href=\"https://colab.research.google.com/github/Rakshit323/batch-50_python/blob/main/Untitled0.ipynb\" target=\"_parent\"><img src=\"https://colab.research.google.com/assets/colab-badge.svg\" alt=\"Open In Colab\"/></a>"
      ]
    },
    {
      "cell_type": "code",
      "execution_count": 1,
      "metadata": {
        "colab": {
          "base_uri": "https://localhost:8080/"
        },
        "id": "gpzihBFpJwLu",
        "outputId": "42d9e6ad-f1b5-48d2-c1ae-639255c8c7c6"
      },
      "outputs": [
        {
          "output_type": "stream",
          "name": "stdout",
          "text": [
            "welcome to python\n"
          ]
        }
      ],
      "source": [
        "print(\"welcome to python\")"
      ]
    },
    {
      "cell_type": "code",
      "source": [
        "print(\"welcome to pyhton\")\n",
        "a=10.5"
      ],
      "metadata": {
        "id": "Kf-jA5zJKHa0"
      },
      "execution_count": null,
      "outputs": []
    }
  ]
}