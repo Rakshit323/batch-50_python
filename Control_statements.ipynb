{
  "nbformat": 4,
  "nbformat_minor": 0,
  "metadata": {
    "colab": {
      "provenance": [],
      "authorship_tag": "ABX9TyMNhTCauD5LjWgN47YY+urZ",
      "include_colab_link": true
    },
    "kernelspec": {
      "name": "python3",
      "display_name": "Python 3"
    },
    "language_info": {
      "name": "python"
    }
  },
  "cells": [
    {
      "cell_type": "markdown",
      "metadata": {
        "id": "view-in-github",
        "colab_type": "text"
      },
      "source": [
        "<a href=\"https://colab.research.google.com/github/Rakshit323/batch-50_python/blob/main/Control_statements.ipynb\" target=\"_parent\"><img src=\"https://colab.research.google.com/assets/colab-badge.svg\" alt=\"Open In Colab\"/></a>"
      ]
    },
    {
      "cell_type": "code",
      "execution_count": 3,
      "metadata": {
        "colab": {
          "base_uri": "https://localhost:8080/"
        },
        "id": "_SZW8zMjBvam",
        "outputId": "fafba640-7f61-479b-99f9-a743ec2db2c0"
      },
      "outputs": [
        {
          "output_type": "stream",
          "name": "stdout",
          "text": [
            "Hello\n",
            "Done\n"
          ]
        }
      ],
      "source": [
        "x=10\n",
        "if x<=10 :\n",
        " print(\"Hello\")\n",
        "x=x+1\n",
        "print(\"Done\")"
      ]
    },
    {
      "cell_type": "code",
      "source": [
        "x=10\n",
        "if x>0 :\n",
        " print(\"Hello\")\n",
        "x=x+1\n",
        "print(\"Done\")"
      ],
      "metadata": {
        "colab": {
          "base_uri": "https://localhost:8080/"
        },
        "id": "DdERARerC66-",
        "outputId": "a92cd404-dc63-43e1-814f-50d090399375"
      },
      "execution_count": 5,
      "outputs": [
        {
          "output_type": "stream",
          "name": "stdout",
          "text": [
            "Hello\n",
            "Done\n"
          ]
        }
      ]
    },
    {
      "cell_type": "code",
      "source": [
        "temp=35\n",
        "if temp>30 :\n",
        "   print(\"hot\")\n",
        "else :\n",
        "  print(\"cold\")\n"
      ],
      "metadata": {
        "colab": {
          "base_uri": "https://localhost:8080/"
        },
        "id": "TpmLAdMXDTn2",
        "outputId": "c25b59c4-be44-4a6b-eb85-d42588f872d9"
      },
      "execution_count": 8,
      "outputs": [
        {
          "output_type": "stream",
          "name": "stdout",
          "text": [
            "hot\n"
          ]
        }
      ]
    },
    {
      "cell_type": "code",
      "source": [
        "temp=35\n",
        "if temp>30 :\n",
        "  print(\"It is a hot day\")\n",
        "  print(\"Drink plenty of water\")\n",
        "elif temp>20 & temp<=30 :\n",
        "    print(\"it is a good day\")\n",
        "elif temp>10 & temp<=20 :\n",
        "    print(\"it is a bit cold day\")\n",
        "else :\n",
        "    print(\"enjoy\")\n",
        "print(\"Done\")\n"
      ],
      "metadata": {
        "colab": {
          "base_uri": "https://localhost:8080/"
        },
        "id": "geqy3HlgDs4V",
        "outputId": "e392f5f3-7d9a-4d62-9013-8c0f39fa23c1"
      },
      "execution_count": 11,
      "outputs": [
        {
          "output_type": "stream",
          "name": "stdout",
          "text": [
            "It is a hot day\n",
            "Drink plenty of water\n",
            "Done\n"
          ]
        }
      ]
    },
    {
      "cell_type": "markdown",
      "source": [
        "Write a pyhton code for weight coversion"
      ],
      "metadata": {
        "id": "earNKZwNFpw9"
      }
    },
    {
      "cell_type": "code",
      "source": [
        "weight=int(input(\"Enter weight\"))\n",
        "x=input(\"enter K(kg) or L(Lbs)\\n\")\n",
        "if  x=='K' :\n",
        "  lbs = weight*2.20462262185\n",
        "  print(lbs)\n",
        "elif x=='L' :\n",
        "  kg = weight/2.20462262185\n",
        "  print(kg)\n",
        "else :\n",
        "  print(\"Invalid input\")"
      ],
      "metadata": {
        "colab": {
          "base_uri": "https://localhost:8080/"
        },
        "id": "7gIxo_hNFxed",
        "outputId": "9eb062ba-f1ca-4ff8-cab5-5b681d6b8571"
      },
      "execution_count": 20,
      "outputs": [
        {
          "output_type": "stream",
          "name": "stdout",
          "text": [
            "Enter weight152\n",
            "enter K(kg) or L(Lbs)\n",
            "L\n",
            "68.94604023996172\n"
          ]
        }
      ]
    }
  ]
}