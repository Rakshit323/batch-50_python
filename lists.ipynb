{
  "nbformat": 4,
  "nbformat_minor": 0,
  "metadata": {
    "colab": {
      "provenance": [],
      "authorship_tag": "ABX9TyO0bOdLxG/we5msIJEfQYl4",
      "include_colab_link": true
    },
    "kernelspec": {
      "name": "python3",
      "display_name": "Python 3"
    },
    "language_info": {
      "name": "python"
    }
  },
  "cells": [
    {
      "cell_type": "markdown",
      "metadata": {
        "id": "view-in-github",
        "colab_type": "text"
      },
      "source": [
        "<a href=\"https://colab.research.google.com/github/Rakshit323/batch-50_python/blob/main/lists.ipynb\" target=\"_parent\"><img src=\"https://colab.research.google.com/assets/colab-badge.svg\" alt=\"Open In Colab\"/></a>"
      ]
    },
    {
      "cell_type": "code",
      "execution_count": null,
      "metadata": {
        "colab": {
          "base_uri": "https://localhost:8080/"
        },
        "id": "Jpnr32ZbcIeg",
        "outputId": "feaaa51b-82ab-4054-8b6f-0493bb01cb3f"
      },
      "outputs": [
        {
          "output_type": "stream",
          "name": "stdout",
          "text": [
            "[3, 4, 10, 5, 6, 7, 8]\n"
          ]
        }
      ],
      "source": [
        "l1=[3,4,5,6,7,8]\n",
        "l1.insert(2,10)\n",
        "print(l1)"
      ]
    },
    {
      "cell_type": "code",
      "source": [
        "l2=[\"sajal\",7.5,\"sajid\",1]\n",
        "l2.remove(7.5)\n",
        "print(l2)"
      ],
      "metadata": {
        "colab": {
          "base_uri": "https://localhost:8080/"
        },
        "id": "bP5GQjibfM36",
        "outputId": "28bf7674-79df-461d-a16e-08ad8fc8549c"
      },
      "execution_count": null,
      "outputs": [
        {
          "output_type": "stream",
          "name": "stdout",
          "text": [
            "['sajal', 'sajid', 1]\n"
          ]
        }
      ]
    },
    {
      "cell_type": "code",
      "source": [
        "sum=0\n",
        "l1=[]\n",
        "for i in range(50):\n",
        " sum=sum+i\n",
        "print(sum)\n",
        "l1.append(sum)"
      ],
      "metadata": {
        "colab": {
          "base_uri": "https://localhost:8080/"
        },
        "id": "POJn5IEkHWRl",
        "outputId": "36b35433-a743-4f72-b773-aad59db48c5b"
      },
      "execution_count": null,
      "outputs": [
        {
          "output_type": "stream",
          "name": "stdout",
          "text": [
            "1225\n"
          ]
        }
      ]
    },
    {
      "cell_type": "code",
      "source": [
        "l1=[]\n",
        "for i in range(11):\n",
        " i=i**2\n",
        " l1.append(i)\n",
        "print(l1)"
      ],
      "metadata": {
        "colab": {
          "base_uri": "https://localhost:8080/"
        },
        "id": "w7dspaLoH3yn",
        "outputId": "27cd45f2-597f-49e9-8392-072ab6b32b8c"
      },
      "execution_count": null,
      "outputs": [
        {
          "output_type": "stream",
          "name": "stdout",
          "text": [
            "[0, 1, 4, 9, 16, 25, 36, 49, 64, 81, 100]\n"
          ]
        }
      ]
    },
    {
      "cell_type": "code",
      "source": [
        "l2=[1,2,\"Abc\",[5,8,\"c\"],6,9,0.0,True]\n",
        "l3=l2[2]\n",
        "print(l3)"
      ],
      "metadata": {
        "colab": {
          "base_uri": "https://localhost:8080/"
        },
        "id": "X7MhfJoGIYFU",
        "outputId": "77508e56-2350-4ccb-bdce-b204a257f857"
      },
      "execution_count": null,
      "outputs": [
        {
          "output_type": "stream",
          "name": "stdout",
          "text": [
            "Abc\n"
          ]
        }
      ]
    },
    {
      "cell_type": "code",
      "source": [
        "list_1=[1,2,3,5,12,14]\n",
        "for i,Index in enumerate(list_1):\n",
        " print(Index,\" is at index no : \",i)"
      ],
      "metadata": {
        "colab": {
          "base_uri": "https://localhost:8080/"
        },
        "id": "8OV0BUkHJPJT",
        "outputId": "818b6c03-d6df-4a87-a2dc-c801dd50e7f3"
      },
      "execution_count": null,
      "outputs": [
        {
          "output_type": "stream",
          "name": "stdout",
          "text": [
            "1  is at index no :  0\n",
            "2  is at index no :  1\n",
            "3  is at index no :  2\n",
            "5  is at index no :  3\n",
            "12  is at index no :  4\n",
            "14  is at index no :  5\n"
          ]
        }
      ]
    },
    {
      "cell_type": "code",
      "source": [
        "list_1=[1,2,3,5,12,14]\n",
        "for i in range(len(list_1)):\n",
        " print(\"index of i is : \",i)"
      ],
      "metadata": {
        "colab": {
          "base_uri": "https://localhost:8080/"
        },
        "id": "K9uPLkQ9KoEI",
        "outputId": "f4514398-5627-4294-ebf8-f97672fa84a8"
      },
      "execution_count": null,
      "outputs": [
        {
          "output_type": "stream",
          "name": "stdout",
          "text": [
            "index of i is :  0\n",
            "index of i is :  1\n",
            "index of i is :  2\n",
            "index of i is :  3\n",
            "index of i is :  4\n",
            "index of i is :  5\n"
          ]
        }
      ]
    },
    {
      "cell_type": "code",
      "source": [
        "l2=[]\n",
        "for i in range(20,1000):\n",
        " sum=0\n",
        " num=i\n",
        " org=i\n",
        " while(num>0):\n",
        "  d=num%10\n",
        "  sum=sum+(d**3)\n",
        "  num=num//10\n",
        " if(sum==org):\n",
        "  l2.append(i)\n",
        "print(l2)\n"
      ],
      "metadata": {
        "colab": {
          "base_uri": "https://localhost:8080/"
        },
        "id": "P-Ro7Zz4LQ9W",
        "outputId": "e6e7e70b-14dd-44e0-c291-1bc25470433c"
      },
      "execution_count": null,
      "outputs": [
        {
          "output_type": "stream",
          "name": "stdout",
          "text": [
            "[153, 370, 371, 407]\n"
          ]
        }
      ]
    },
    {
      "cell_type": "code",
      "source": [
        "l1=[i for i in range(11)]\n",
        "print(l1)"
      ],
      "metadata": {
        "colab": {
          "base_uri": "https://localhost:8080/"
        },
        "id": "UeWUnYu_tKZ-",
        "outputId": "f31e8e60-7d28-4a9d-d789-9910bfbfd6a8"
      },
      "execution_count": 1,
      "outputs": [
        {
          "output_type": "stream",
          "name": "stdout",
          "text": [
            "[0, 1, 2, 3, 4, 5, 6, 7, 8, 9, 10]\n"
          ]
        }
      ]
    },
    {
      "cell_type": "code",
      "source": [
        "l1=[i for i in range(20) if i%2==0]\n",
        "print(l1)"
      ],
      "metadata": {
        "colab": {
          "base_uri": "https://localhost:8080/"
        },
        "id": "px1DCUTOt2Vu",
        "outputId": "13e0e294-0f06-4c44-936c-ed4ab0b29953"
      },
      "execution_count": 2,
      "outputs": [
        {
          "output_type": "stream",
          "name": "stdout",
          "text": [
            "[0, 2, 4, 6, 8, 10, 12, 14, 16, 18]\n"
          ]
        }
      ]
    },
    {
      "cell_type": "code",
      "source": [
        "#wap to insert prime numbers to a list using list comprehension\n",
        "l1=[i for i in range(1,20) for j in range(2,int(i**0.5)+1) if i>1 and i%j!=0 ]\n",
        "print(l1)"
      ],
      "metadata": {
        "colab": {
          "base_uri": "https://localhost:8080/"
        },
        "id": "t9rbSdHeuSXs",
        "outputId": "a86e61bd-6217-41d1-f272-5925c79cb5d3"
      },
      "execution_count": 11,
      "outputs": [
        {
          "output_type": "stream",
          "name": "stdout",
          "text": [
            "[5, 7, 9, 10, 11, 11, 13, 13, 14, 15, 16, 17, 17, 17, 18, 19, 19, 19]\n"
          ]
        }
      ]
    },
    {
      "cell_type": "code",
      "source": [
        "l1=[num**2 for num in range(10,20)]\n",
        "print(l1)"
      ],
      "metadata": {
        "colab": {
          "base_uri": "https://localhost:8080/"
        },
        "id": "BONfRVV7wSbf",
        "outputId": "60649150-59b6-42b7-929b-da3808bf64f6"
      },
      "execution_count": 13,
      "outputs": [
        {
          "output_type": "stream",
          "name": "stdout",
          "text": [
            "[100, 121, 144, 169, 196, 225, 256, 289, 324, 361]\n"
          ]
        }
      ]
    },
    {
      "cell_type": "code",
      "source": [
        "l1=[num for num in range(1000) if num%3==0 if num%5==0 if num%7==0]\n",
        "print(l1)"
      ],
      "metadata": {
        "colab": {
          "base_uri": "https://localhost:8080/"
        },
        "id": "SsQbXVSAw8-k",
        "outputId": "833bd37c-4591-42d9-8df4-8e809f1f54e9"
      },
      "execution_count": 19,
      "outputs": [
        {
          "output_type": "stream",
          "name": "stdout",
          "text": [
            "[0, 105, 210, 315, 420, 525, 630, 735, 840, 945]\n"
          ]
        }
      ]
    },
    {
      "cell_type": "code",
      "source": [],
      "metadata": {
        "id": "1Be89jofxfG5"
      },
      "execution_count": null,
      "outputs": []
    }
  ]
}