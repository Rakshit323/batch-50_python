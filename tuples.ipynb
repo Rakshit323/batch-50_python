{
  "nbformat": 4,
  "nbformat_minor": 0,
  "metadata": {
    "colab": {
      "provenance": [],
      "authorship_tag": "ABX9TyPQOtmpF981MV3lXF/k1yd3",
      "include_colab_link": true
    },
    "kernelspec": {
      "name": "python3",
      "display_name": "Python 3"
    },
    "language_info": {
      "name": "python"
    }
  },
  "cells": [
    {
      "cell_type": "markdown",
      "metadata": {
        "id": "view-in-github",
        "colab_type": "text"
      },
      "source": [
        "<a href=\"https://colab.research.google.com/github/Rakshit323/batch-50_python/blob/main/tuples.ipynb\" target=\"_parent\"><img src=\"https://colab.research.google.com/assets/colab-badge.svg\" alt=\"Open In Colab\"/></a>"
      ]
    },
    {
      "cell_type": "code",
      "execution_count": null,
      "metadata": {
        "colab": {
          "base_uri": "https://localhost:8080/"
        },
        "id": "dcAGGuykz3T2",
        "outputId": "2bf997d5-b96e-4e63-e669-47e9da37389c"
      },
      "outputs": [
        {
          "output_type": "stream",
          "name": "stdout",
          "text": [
            "(1, 2, 3, 4, 5)\n",
            "('one', 'two', 'three', 'four', 'five')\n",
            "(1, 'one', 7.5, 'Sajid')\n"
          ]
        }
      ],
      "source": [
        "t1=(1,2,3,4,5)\n",
        "t2=('one','two','three','four','five')\n",
        "t3=(1,'one',7.5,\"Sajid\")\n",
        "print(t1)\n",
        "print(t2)\n",
        "print(t3)"
      ]
    },
    {
      "cell_type": "code",
      "source": [
        "t1=(1,2,3,4,5,6,8)\n",
        "print(t1[2:])\n",
        "print(t1[-2:])\n",
        "print(t1[-1])\n",
        "print(t1[::])\n",
        "print(t1[1:6:2])\n",
        "print(t1[::-1])"
      ],
      "metadata": {
        "colab": {
          "base_uri": "https://localhost:8080/"
        },
        "id": "b_ORW61a0y7A",
        "outputId": "0844d21f-618d-42d9-d974-9c60b3bb4886"
      },
      "execution_count": 13,
      "outputs": [
        {
          "output_type": "stream",
          "name": "stdout",
          "text": [
            "(3, 4, 5, 6, 8)\n",
            "(6, 8)\n",
            "8\n",
            "(1, 2, 3, 4, 5, 6, 8)\n",
            "(2, 4, 6)\n",
            "(8, 6, 5, 4, 3, 2, 1)\n"
          ]
        }
      ]
    },
    {
      "cell_type": "code",
      "source": [
        "t2=('one','two','three','four','five')\n",
        "t3=(1,'one',7.5,\"Sajid\")\n",
        "t4=t2+t3\n",
        "print(t4)"
      ],
      "metadata": {
        "colab": {
          "base_uri": "https://localhost:8080/"
        },
        "id": "XYPf8af13bJ3",
        "outputId": "41123443-0946-47ff-f303-735858fedc6d"
      },
      "execution_count": 14,
      "outputs": [
        {
          "output_type": "stream",
          "name": "stdout",
          "text": [
            "('one', 'two', 'three', 'four', 'five', 1, 'one', 7.5, 'Sajid')\n"
          ]
        }
      ]
    },
    {
      "cell_type": "code",
      "source": [
        "t2=('one','two','three','four','five')\n",
        "print(t2[0][0])"
      ],
      "metadata": {
        "colab": {
          "base_uri": "https://localhost:8080/"
        },
        "id": "X4oOpAp-31Rs",
        "outputId": "b3b83c79-617e-4e74-d502-295ebf0663ca"
      },
      "execution_count": 15,
      "outputs": [
        {
          "output_type": "stream",
          "name": "stdout",
          "text": [
            "o\n"
          ]
        }
      ]
    },
    {
      "cell_type": "code",
      "source": [
        "t2=('one','two','three','four','five',(5,8),('six','seven'))\n",
        "print(t2)\n",
        "print(t2[5][1])"
      ],
      "metadata": {
        "colab": {
          "base_uri": "https://localhost:8080/"
        },
        "id": "0YCxZ-yb4H6s",
        "outputId": "efa9f3e7-3d2a-4d7d-bd71-6d63847fdcf2"
      },
      "execution_count": 16,
      "outputs": [
        {
          "output_type": "stream",
          "name": "stdout",
          "text": [
            "('one', 'two', 'three', 'four', 'five', (5, 8), ('six', 'seven'))\n",
            "8\n"
          ]
        }
      ]
    }
  ]
}